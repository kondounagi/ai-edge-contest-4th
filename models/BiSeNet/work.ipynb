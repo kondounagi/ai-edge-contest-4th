{
 "cells": [
  {
   "cell_type": "code",
   "execution_count": null,
   "metadata": {},
   "outputs": [],
   "source": [
    "%run  tools/train.py  --finetune-from ./model_final.pth --model bisenetv2"
   ]
  },
  {
   "cell_type": "code",
   "execution_count": null,
   "metadata": {},
   "outputs": [],
   "source": [
    "path = \"./train.txt\"\n",
    "with open(path, mode='w') as f:\n",
    "    for i in range(0,2243):\n",
    "        f.write(\"seg_train_images/train_{}.jpg,seg_train_annotations/train_{}.png\\n\".format(str(i).zfill(4), str(i).zfill(4)))"
   ]
  },
  {
   "cell_type": "code",
   "execution_count": null,
   "metadata": {},
   "outputs": [],
   "source": [
    "import cv2\n",
    "import matplotlib.pyplot as plt\n",
    "img = cv2.imread(\"./datasets/signate/seg_train_annotations/train_0000.png\",0)\n",
    "plt.imshow(img)"
   ]
  },
  {
   "cell_type": "code",
   "execution_count": 27,
   "metadata": {},
   "outputs": [
    {
     "name": "stdout",
     "output_type": "stream",
     "text": [
      "[[ 69  47 142]\n",
      " [  0 255 255]\n",
      " [  0 203 151]\n",
      " [ 92 136 125]\n",
      " [ 92 136 125]\n",
      " [180 131 135]\n",
      " [255 255   0]\n",
      " [255 134   0]\n",
      " [ 85 255  50]\n",
      " [ 85 255  50]\n",
      " [  0 152 225]\n",
      " [255   0   0]\n",
      " [208 149   1]\n",
      " [  0   0 255]\n",
      " [180   0 129]\n",
      " [193 214   0]\n",
      " [255 121 166]\n",
      " [ 65 166   1]\n",
      " [208 149   1]]\n",
      "[[13 13 13 ...  2  2  2]\n",
      " [13 13 13 ...  2  2  2]\n",
      " [13 13 13 ...  2  2  2]\n",
      " ...\n",
      " [ 0  0  0 ...  0  0  0]\n",
      " [ 0  0  0 ...  0  0  0]\n",
      " [ 0  0  0 ...  0  0  0]]\n"
     ]
    }
   ],
   "source": [
    "%run tools/demo.py --model bisenetv2 --weight-path ./model_final.pth --img-path ./train_0000.jpg"
   ]
  },
  {
   "cell_type": "code",
   "execution_count": 6,
   "metadata": {},
   "outputs": [],
   "source": [
    "\n",
    "labels_info_signate = [\n",
    "    {\"hasInstances\": False, \"category\": \"void\", \"catid\": 0, \"name\": \"unlabeled\", \"ignoreInEval\": True, \"id\": 0, \"color\": [0, 0, 0], \"trainId\": 255},\n",
    "    {\"hasInstances\": False, \"category\": \"void\", \"catid\": 0, \"name\": \"ego vehicle\", \"ignoreInEval\": True, \"id\": 1, \"color\": [0, 0, 0], \"trainId\": 255},\n",
    "    {\"hasInstances\": False, \"category\": \"void\", \"catid\": 0, \"name\": \"rectification border\", \"ignoreInEval\": True, \"id\": 2, \"color\": [0, 0, 0], \"trainId\": 255},\n",
    "    {\"hasInstances\": False, \"category\": \"void\", \"catid\": 0, \"name\": \"out of roi\", \"ignoreInEval\": True, \"id\": 3, \"color\": [0, 0, 0], \"trainId\": 255},\n",
    "    {\"hasInstances\": False, \"category\": \"void\", \"catid\": 0, \"name\": \"static\", \"ignoreInEval\": True, \"id\": 4, \"color\": [0, 0, 0], \"trainId\": 255},\n",
    "    {\"hasInstances\": False, \"category\": \"void\", \"catid\": 0, \"name\": \"dynamic\", \"ignoreInEval\": True, \"id\": 5, \"color\": [111, 74, 0], \"trainId\": 255},\n",
    "    {\"hasInstances\": False, \"category\": \"void\", \"catid\": 0, \"name\": \"ground\", \"ignoreInEval\": True, \"id\": 6, \"color\": [81, 0, 81], \"trainId\": 255},\n",
    "    {\"hasInstances\": False, \"category\": \"flat\", \"catid\": 1, \"name\": \"road\", \"ignoreInEval\": False, \"id\": 7, \"color\": [69, 47, 142], \"trainId\": 0},\n",
    "    {\"hasInstances\": False, \"category\": \"flat\", \"catid\": 1, \"name\": \"sidewalk\", \"ignoreInEval\": False, \"id\": 8, \"color\": [0, 255, 255], \"trainId\": 1},\n",
    "    {\"hasInstances\": False, \"category\": \"flat\", \"catid\": 1, \"name\": \"parking\", \"ignoreInEval\": True, \"id\": 9, \"color\": [69, 47, 142], \"trainId\": 255},\n",
    "    {\"hasInstances\": False, \"category\": \"flat\", \"catid\": 1, \"name\": \"rail track\", \"ignoreInEval\": True, \"id\": 10, \"color\": [230, 150, 140], \"trainId\": 255},\n",
    "    {\"hasInstances\": False, \"category\": \"construction\", \"catid\": 2, \"name\": \"building\", \"ignoreInEval\": False, \"id\": 11, \"color\": [0, 203, 151], \"trainId\": 2},\n",
    "    {\"hasInstances\": False, \"category\": \"construction\", \"catid\": 2, \"name\": \"wall\", \"ignoreInEval\": False, \"id\": 12, \"color\": [92, 136, 125], \"trainId\": 3},\n",
    "    {\"hasInstances\": False, \"category\": \"construction\", \"catid\": 2, \"name\": \"fence\", \"ignoreInEval\": False, \"id\": 13, \"color\": [92, 136, 125], \"trainId\": 4},\n",
    "    {\"hasInstances\": False, \"category\": \"construction\", \"catid\": 2, \"name\": \"guard rail\", \"ignoreInEval\": True, \"id\": 14, \"color\": [92, 136, 125], \"trainId\": 255},\n",
    "    {\"hasInstances\": False, \"category\": \"construction\", \"catid\": 2, \"name\": \"bridge\", \"ignoreInEval\": True, \"id\": 15, \"color\": [0, 203, 151], \"trainId\": 255},\n",
    "    {\"hasInstances\": False, \"category\": \"construction\", \"catid\": 2, \"name\": \"tunnel\", \"ignoreInEval\": True, \"id\": 16, \"color\": [0, 203, 151], \"trainId\": 255},\n",
    "    {\"hasInstances\": False, \"category\": \"object\", \"catid\": 3, \"name\": \"pole\", \"ignoreInEval\": False, \"id\": 17, \"color\": [180, 131, 135], \"trainId\": 5},\n",
    "    {\"hasInstances\": False, \"category\": \"object\", \"catid\": 3, \"name\": \"polegroup\", \"ignoreInEval\": True, \"id\": 18, \"color\": [180, 131, 135], \"trainId\": 255},\n",
    "    {\"hasInstances\": False, \"category\": \"object\", \"catid\": 3, \"name\": \"traffic light\", \"ignoreInEval\": False, \"id\": 19, \"color\": [255, 255, 0], \"trainId\": 6},\n",
    "    {\"hasInstances\": False, \"category\": \"object\", \"catid\": 3, \"name\": \"traffic sign\", \"ignoreInEval\": False, \"id\": 20, \"color\": [255, 134, 0], \"trainId\": 7},\n",
    "    {\"hasInstances\": False, \"category\": \"nature\", \"catid\": 4, \"name\": \"vegetation\", \"ignoreInEval\": False, \"id\": 21, \"color\": [85, 255, 50], \"trainId\": 8},\n",
    "    {\"hasInstances\": False, \"category\": \"nature\", \"catid\": 4, \"name\": \"terrain\", \"ignoreInEval\": False, \"id\": 22, \"color\": [85, 255, 50], \"trainId\": 9},\n",
    "    {\"hasInstances\": False, \"category\": \"sky\", \"catid\": 5, \"name\": \"sky\", \"ignoreInEval\": False, \"id\": 23, \"color\": [0, 152, 225], \"trainId\": 10},\n",
    "    {\"hasInstances\": True, \"category\": \"human\", \"catid\": 6, \"name\": \"person\", \"ignoreInEval\": False, \"id\": 24, \"color\": [255, 0, 0], \"trainId\": 11},\n",
    "    {\"hasInstances\": True, \"category\": \"human\", \"catid\": 6, \"name\": \"rider\", \"ignoreInEval\": False, \"id\": 25, \"color\": [208, 149, 1], \"trainId\": 12},\n",
    "    {\"hasInstances\": True, \"category\": \"vehicle\", \"catid\": 7, \"name\": \"car\", \"ignoreInEval\": False, \"id\": 26, \"color\": [0, 0, 255], \"trainId\": 13},\n",
    "    {\"hasInstances\": True, \"category\": \"vehicle\", \"catid\": 7, \"name\": \"truck\", \"ignoreInEval\": False, \"id\": 27, \"color\": [180, 0, 129], \"trainId\": 14},\n",
    "    {\"hasInstances\": True, \"category\": \"vehicle\", \"catid\": 7, \"name\": \"bus\", \"ignoreInEval\": False, \"id\": 28, \"color\": [193, 214, 0], \"trainId\": 15},\n",
    "    {\"hasInstances\": True, \"category\": \"vehicle\", \"catid\": 7, \"name\": \"caravan\", \"ignoreInEval\": True, \"id\": 29, \"color\": [255, 121, 166], \"trainId\": 255},\n",
    "    {\"hasInstances\": True, \"category\": \"vehicle\", \"catid\": 7, \"name\": \"trailer\", \"ignoreInEval\": True, \"id\": 30, \"color\": [255, 121, 166], \"trainId\": 255},\n",
    "    {\"hasInstances\": True, \"category\": \"vehicle\", \"catid\": 7, \"name\": \"train\", \"ignoreInEval\": False, \"id\": 31, \"color\": [255, 121, 166], \"trainId\": 16},\n",
    "    {\"hasInstances\": True, \"category\": \"vehicle\", \"catid\": 7, \"name\": \"motorcycle\", \"ignoreInEval\": False, \"id\": 32, \"color\": [65, 166, 1], \"trainId\": 17},\n",
    "    {\"hasInstances\": True, \"category\": \"vehicle\", \"catid\": 7, \"name\": \"bicycle\", \"ignoreInEval\": False, \"id\": 33, \"color\": [208, 149, 1], \"trainId\": 18},\n",
    "    {\"hasInstances\": False, \"category\": \"vehicle\", \"catid\": 7, \"name\": \"license plate\", \"ignoreInEval\": True, \"id\": -1, \"color\": [0, 0, 142], \"trainId\": -1}\n",
    "]\n"
   ]
  },
  {
   "cell_type": "code",
   "execution_count": 11,
   "metadata": {},
   "outputs": [
    {
     "data": {
      "text/plain": [
       "[0, 0, 0]"
      ]
     },
     "execution_count": 11,
     "metadata": {},
     "output_type": "execute_result"
    }
   ],
   "source": [
    "labels_info_signate[0][\"color\"]"
   ]
  },
  {
   "cell_type": "code",
   "execution_count": null,
   "metadata": {},
   "outputs": [],
   "source": []
  }
 ],
 "metadata": {
  "kernelspec": {
   "display_name": "Python 3",
   "language": "python",
   "name": "python3"
  },
  "language_info": {
   "codemirror_mode": {
    "name": "ipython",
    "version": 3
   },
   "file_extension": ".py",
   "mimetype": "text/x-python",
   "name": "python",
   "nbconvert_exporter": "python",
   "pygments_lexer": "ipython3",
   "version": "3.7.6"
  }
 },
 "nbformat": 4,
 "nbformat_minor": 4
}
